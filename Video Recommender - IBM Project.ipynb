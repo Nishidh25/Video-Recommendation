{
 "cells": [
  {
   "cell_type": "markdown",
   "metadata": {},
   "source": [
    "# *Video Recommender - IBM Summer Project*\n",
    "\n",
    "(I024) Abhinav Kumar\n",
    "\n",
    "(I026) Abhinav Kumar\n",
    "\n",
    "(I027) Saket Lakhotia\n",
    "\n",
    "(I030) Anishka Moona\n",
    "\n",
    "(I050) Nishidh Singh Shekhawat\n",
    "\n",
    "\n",
    "Dataset: Movies + User Ratings Dataset\n",
    "\n",
    "We selected movies as our dataset in video recommendations as it contains simillar metadata and same concepts can be applied to videos.\n"
   ]
  },
  {
   "cell_type": "markdown",
   "metadata": {},
   "source": [
    "## Imports"
   ]
  },
  {
   "cell_type": "code",
   "execution_count": 1,
   "metadata": {},
   "outputs": [
    {
     "name": "stderr",
     "output_type": "stream",
     "text": [
      "[nltk_data] Downloading package punkt to\n",
      "[nltk_data]     C:\\Users\\Nishidh\\AppData\\Roaming\\nltk_data...\n",
      "[nltk_data]   Package punkt is already up-to-date!\n",
      "[nltk_data] Downloading package stopwords to\n",
      "[nltk_data]     C:\\Users\\Nishidh\\AppData\\Roaming\\nltk_data...\n",
      "[nltk_data]   Package stopwords is already up-to-date!\n",
      "[nltk_data] Downloading package wordnet to\n",
      "[nltk_data]     C:\\Users\\Nishidh\\AppData\\Roaming\\nltk_data...\n",
      "[nltk_data]   Package wordnet is already up-to-date!\n"
     ]
    }
   ],
   "source": [
    "# Importing important libraries\n",
    "import numpy as np\n",
    "import pandas as pd\n",
    "import regex as re\n",
    "import nltk\n",
    "from nltk.stem import WordNetLemmatizer\n",
    "nltk.download([\"punkt\",\"stopwords\",\"wordnet\"])\n",
    "from sklearn.feature_extraction.text import CountVectorizer\n",
    "from sklearn.metrics.pairwise import cosine_similarity\n",
    "from sklearn.neighbors import NearestNeighbors\n",
    "from flask import Flask, render_template, jsonify, request, redirect\n",
    "from flask_table import Table, Col, LinkCol"
   ]
  },
  {
   "cell_type": "markdown",
   "metadata": {},
   "source": [
    "## Data exploration"
   ]
  },
  {
   "cell_type": "code",
   "execution_count": 2,
   "metadata": {},
   "outputs": [],
   "source": [
    "# Loading the dataset\n",
    "movies = pd.read_csv(\"movies.csv\")\n",
    "ratings = pd.read_csv(\"ratings.csv\")"
   ]
  },
  {
   "cell_type": "code",
   "execution_count": 3,
   "metadata": {
    "scrolled": true
   },
   "outputs": [
    {
     "data": {
      "text/html": [
       "<div>\n",
       "<style scoped>\n",
       "    .dataframe tbody tr th:only-of-type {\n",
       "        vertical-align: middle;\n",
       "    }\n",
       "\n",
       "    .dataframe tbody tr th {\n",
       "        vertical-align: top;\n",
       "    }\n",
       "\n",
       "    .dataframe thead th {\n",
       "        text-align: right;\n",
       "    }\n",
       "</style>\n",
       "<table border=\"1\" class=\"dataframe\">\n",
       "  <thead>\n",
       "    <tr style=\"text-align: right;\">\n",
       "      <th></th>\n",
       "      <th>movieId</th>\n",
       "      <th>title</th>\n",
       "      <th>genres</th>\n",
       "    </tr>\n",
       "  </thead>\n",
       "  <tbody>\n",
       "    <tr>\n",
       "      <th>0</th>\n",
       "      <td>1</td>\n",
       "      <td>Toy Story (1995)</td>\n",
       "      <td>Adventure|Animation|Children|Comedy|Fantasy</td>\n",
       "    </tr>\n",
       "    <tr>\n",
       "      <th>1</th>\n",
       "      <td>2</td>\n",
       "      <td>Jumanji (1995)</td>\n",
       "      <td>Adventure|Children|Fantasy</td>\n",
       "    </tr>\n",
       "    <tr>\n",
       "      <th>2</th>\n",
       "      <td>3</td>\n",
       "      <td>Grumpier Old Men (1995)</td>\n",
       "      <td>Comedy|Romance</td>\n",
       "    </tr>\n",
       "    <tr>\n",
       "      <th>3</th>\n",
       "      <td>4</td>\n",
       "      <td>Waiting to Exhale (1995)</td>\n",
       "      <td>Comedy|Drama|Romance</td>\n",
       "    </tr>\n",
       "    <tr>\n",
       "      <th>4</th>\n",
       "      <td>5</td>\n",
       "      <td>Father of the Bride Part II (1995)</td>\n",
       "      <td>Comedy</td>\n",
       "    </tr>\n",
       "  </tbody>\n",
       "</table>\n",
       "</div>"
      ],
      "text/plain": [
       "   movieId                               title  \\\n",
       "0        1                    Toy Story (1995)   \n",
       "1        2                      Jumanji (1995)   \n",
       "2        3             Grumpier Old Men (1995)   \n",
       "3        4            Waiting to Exhale (1995)   \n",
       "4        5  Father of the Bride Part II (1995)   \n",
       "\n",
       "                                        genres  \n",
       "0  Adventure|Animation|Children|Comedy|Fantasy  \n",
       "1                   Adventure|Children|Fantasy  \n",
       "2                               Comedy|Romance  \n",
       "3                         Comedy|Drama|Romance  \n",
       "4                                       Comedy  "
      ]
     },
     "execution_count": 3,
     "metadata": {},
     "output_type": "execute_result"
    }
   ],
   "source": [
    "movies.head()"
   ]
  },
  {
   "cell_type": "code",
   "execution_count": 4,
   "metadata": {},
   "outputs": [
    {
     "data": {
      "text/plain": [
       "(10329, 3)"
      ]
     },
     "execution_count": 4,
     "metadata": {},
     "output_type": "execute_result"
    }
   ],
   "source": [
    "movies.shape"
   ]
  },
  {
   "cell_type": "markdown",
   "metadata": {},
   "source": [
    "The movies dataset contains the movie id along with tile and genre of 10329 Movies"
   ]
  },
  {
   "cell_type": "code",
   "execution_count": 5,
   "metadata": {},
   "outputs": [
    {
     "data": {
      "text/html": [
       "<div>\n",
       "<style scoped>\n",
       "    .dataframe tbody tr th:only-of-type {\n",
       "        vertical-align: middle;\n",
       "    }\n",
       "\n",
       "    .dataframe tbody tr th {\n",
       "        vertical-align: top;\n",
       "    }\n",
       "\n",
       "    .dataframe thead th {\n",
       "        text-align: right;\n",
       "    }\n",
       "</style>\n",
       "<table border=\"1\" class=\"dataframe\">\n",
       "  <thead>\n",
       "    <tr style=\"text-align: right;\">\n",
       "      <th></th>\n",
       "      <th>userId</th>\n",
       "      <th>movieId</th>\n",
       "      <th>rating</th>\n",
       "      <th>timestamp</th>\n",
       "    </tr>\n",
       "  </thead>\n",
       "  <tbody>\n",
       "    <tr>\n",
       "      <th>0</th>\n",
       "      <td>1</td>\n",
       "      <td>16</td>\n",
       "      <td>4.0</td>\n",
       "      <td>1217897793</td>\n",
       "    </tr>\n",
       "    <tr>\n",
       "      <th>1</th>\n",
       "      <td>1</td>\n",
       "      <td>24</td>\n",
       "      <td>1.5</td>\n",
       "      <td>1217895807</td>\n",
       "    </tr>\n",
       "    <tr>\n",
       "      <th>2</th>\n",
       "      <td>1</td>\n",
       "      <td>32</td>\n",
       "      <td>4.0</td>\n",
       "      <td>1217896246</td>\n",
       "    </tr>\n",
       "    <tr>\n",
       "      <th>3</th>\n",
       "      <td>1</td>\n",
       "      <td>47</td>\n",
       "      <td>4.0</td>\n",
       "      <td>1217896556</td>\n",
       "    </tr>\n",
       "    <tr>\n",
       "      <th>4</th>\n",
       "      <td>1</td>\n",
       "      <td>50</td>\n",
       "      <td>4.0</td>\n",
       "      <td>1217896523</td>\n",
       "    </tr>\n",
       "  </tbody>\n",
       "</table>\n",
       "</div>"
      ],
      "text/plain": [
       "   userId  movieId  rating   timestamp\n",
       "0       1       16     4.0  1217897793\n",
       "1       1       24     1.5  1217895807\n",
       "2       1       32     4.0  1217896246\n",
       "3       1       47     4.0  1217896556\n",
       "4       1       50     4.0  1217896523"
      ]
     },
     "execution_count": 5,
     "metadata": {},
     "output_type": "execute_result"
    }
   ],
   "source": [
    "ratings.head()"
   ]
  },
  {
   "cell_type": "code",
   "execution_count": 6,
   "metadata": {},
   "outputs": [
    {
     "data": {
      "text/plain": [
       "(105339, 4)"
      ]
     },
     "execution_count": 6,
     "metadata": {},
     "output_type": "execute_result"
    }
   ],
   "source": [
    "ratings.shape"
   ]
  },
  {
   "cell_type": "markdown",
   "metadata": {},
   "source": [
    "The ratings dataset contains a userId, movieId he watched, and the rating he gave along with a timestamp"
   ]
  },
  {
   "cell_type": "code",
   "execution_count": 7,
   "metadata": {},
   "outputs": [
    {
     "data": {
      "text/plain": [
       "{'(no genres listed)',\n",
       " 'Action',\n",
       " 'Adventure',\n",
       " 'Animation',\n",
       " 'Children',\n",
       " 'Comedy',\n",
       " 'Crime',\n",
       " 'Documentary',\n",
       " 'Drama',\n",
       " 'Fantasy',\n",
       " 'Film-Noir',\n",
       " 'Horror',\n",
       " 'IMAX',\n",
       " 'Musical',\n",
       " 'Mystery',\n",
       " 'Romance',\n",
       " 'Sci-Fi',\n",
       " 'Thriller',\n",
       " 'War',\n",
       " 'Western'}"
      ]
     },
     "execution_count": 7,
     "metadata": {},
     "output_type": "execute_result"
    }
   ],
   "source": [
    "# Extracting genres\n",
    "genre = set()\n",
    "\n",
    "for txt in movies['genres']:\n",
    "  x = txt.split(\"|\")\n",
    "  for g in x:\n",
    "    genre.add(g)\n",
    "genre"
   ]
  },
  {
   "cell_type": "markdown",
   "metadata": {},
   "source": [
    "We can see the dataset contains movies with 19 genres and some with no genre listed"
   ]
  },
  {
   "cell_type": "markdown",
   "metadata": {},
   "source": [
    "## Creating Class for recommendation\n",
    "\n",
    "We create multiple functions inside the class based on recommendation type\n",
    "\n",
    "We recommend movies based on:\n",
    "\n",
    "1. Ratings Correlation\n",
    "2. Simillar Users\n",
    "3. Cosine Similarity"
   ]
  },
  {
   "cell_type": "code",
   "execution_count": 8,
   "metadata": {},
   "outputs": [],
   "source": [
    "class RecommendationSystem:\n",
    "    def __init__(self):\n",
    "        self.movies = pd.read_csv(\"movies.csv\")\n",
    "        self.ratings = pd.read_csv(\"ratings.csv\")\n",
    "        self.dataset = self.movies.merge(self.ratings)\n",
    "        \n",
    "    def sort_movies_by_year(self,li):\n",
    "        def merge_sort(a,l,r):\n",
    "            if l==r:\n",
    "                return\n",
    "            mid=(l+r)//2\n",
    "            merge_sort(a,l,mid)\n",
    "            merge_sort(a,mid+1,r)\n",
    "            merge(a,l,mid,r)\n",
    "\n",
    "        def merge(a,l,mid,r):\n",
    "            n1=mid-l+1\n",
    "            n2=r-(mid+1)+1\n",
    "            L=[a[i+l] for i in range(n1)]\n",
    "            R=[a[i+mid+1] for i in range(n2)]\n",
    "            i,j,k=0,0,l\n",
    "            while(i<n1 and j<n2):\n",
    "                if int(L[i][-5:-1])>int(R[j][-5:-1]) :\n",
    "                    a[k]=L[i]\n",
    "                    i+=1\n",
    "                else:\n",
    "                    a[k]=R[j]\n",
    "                    j+=1\n",
    "                k+=1\n",
    "            while(i<n1):\n",
    "                a[k]=L[i]\n",
    "                i+=1\n",
    "                k+=1\n",
    "            while(j<n2):\n",
    "                a[k]=R[j]\n",
    "                j+=1\n",
    "                k+=1\n",
    "        merge_sort(li,0,len(li)-1)\n",
    "    \n",
    "    \n",
    "    def get_movie_by_id(self,mv_id):\n",
    "        return self.movies.loc[rs.movies['movieId']==mv_id,['title']].values[0][0]\n",
    "    \n",
    "    \n",
    "    def clean_feature_and_return_ndarray(self,genres):\n",
    "        lemmatizer = WordNetLemmatizer()\n",
    "        li=[]\n",
    "        for i in range(len(genres)):\n",
    "            temp = genres[i].lower()\n",
    "            temp = temp.split(\"|\")\n",
    "            temp = [lemmatizer.lemmatize(word) for word in temp]\n",
    "            li.append(\" \".join(temp))\n",
    "        \n",
    "        cv = CountVectorizer()\n",
    "        return cv.fit_transform(li).toarray(),cv,li\n",
    "        \n",
    "    def content_based_filtering(self,userId,no_of_movies=15):\n",
    "        #Finding based on similar movies\n",
    "        \n",
    "        X,cv,li = self.clean_feature_and_return_ndarray(self.movies[\"genres\"])\n",
    "        movies_dataset = pd.DataFrame(li,columns=[\"genres\"],index=self.movies[\"title\"])\n",
    "        \n",
    "        def get_movie_by_index(movies_dataset,idx):   \n",
    "            return movies_dataset.index[idx]\n",
    "        \n",
    "        similarities = cosine_similarity(X)\n",
    "        \n",
    "        def latest_movieId_watched(uid):\n",
    "            time = self.ratings.loc[self.ratings[\"userId\"]==uid,[\"movieId\",\"timestamp\"]]\n",
    "            return time.sort_values(by=\"timestamp\",ascending=False)[\"movieId\"].values[0]\n",
    "        \n",
    "        latest_movieId_watched_by_user = latest_movieId_watched(userId)\n",
    "        movie_index = self.movies.loc[self.movies['movieId']==latest_movieId_watched_by_user,[\"title\"]].index[0]\n",
    "        similarity_values = pd.Series(similarities[movie_index])\n",
    "        \n",
    "        \n",
    "        similar_movie_indexes = list(similarity_values.sort_values(ascending=False).index)\n",
    "        similar_movie_indexes.remove(movie_index) #Remove the already watched movie from index list\n",
    "        \n",
    "        li = [get_movie_by_index(movies_dataset,idx) for idx in similar_movie_indexes]\n",
    "        li = li[:no_of_movies]\n",
    "        \n",
    "        self.sort_movies_by_year(li)\n",
    "        \n",
    "        print(\"Since u have watched: \",self.get_movie_by_id(latest_movieId_watched_by_user),\"<--- \\n Recommended:\",end=\"\\n\\n\")\n",
    "        \n",
    "        \n",
    "        for i in range(no_of_movies):\n",
    "            print(li[i])\n",
    "        \n",
    "        return li\n",
    "    \n",
    "    def collaborative_filtering(self,uid,no_of_movies=15):\n",
    "        #Finding based on similar users\n",
    "        \n",
    "        X,cv,li = self.clean_feature_and_return_ndarray(self.dataset['genres'])\n",
    "        genres = pd.DataFrame(X,columns=cv.get_feature_names())\n",
    "        \n",
    "        users = pd.DataFrame(self.dataset['userId'],columns=['userId'])\n",
    "        users = users.join(genres)\n",
    "        \n",
    "        users_moviemat = users.groupby(\"userId\").sum()\n",
    "        X = users_moviemat.iloc[:,:].values\n",
    "\n",
    "        classifier = NearestNeighbors()\n",
    "        classifier.fit(X)\n",
    "        \n",
    "        li = classifier.kneighbors([X[uid-1]],n_neighbors=5,return_distance=False)\n",
    "        current_user = self.dataset.loc[self.dataset[\"userId\"]==li[0][0],:][\"title\"].values\n",
    "        similar_user = self.dataset.loc[self.dataset[\"userId\"]==li[0][1],:][\"title\"].values\n",
    " \n",
    "        movies_list = [movie for movie in similar_user if movie not in current_user]\n",
    "        \n",
    "        self.sort_movies_by_year(movies_list)\n",
    "        \n",
    "        \n",
    "        print(\"U May Like These Movies \\n\\n\")\n",
    "        \n",
    "        for i in range(no_of_movies):\n",
    "            print(movies_list[i])\n",
    "            \n",
    "        return movies_list[:no_of_movies]\n",
    "            \n",
    "    def based_on_ratings(self,movieId):\n",
    "        avg_ratings = self.dataset.groupby(\"title\")['rating'].mean()\n",
    "        count = self.dataset.groupby(\"title\")['rating'].count()\n",
    "        dataset_based_on_ratings = pd.DataFrame({\"rating\":avg_ratings,\"number of ratings\":count})\n",
    "        \n",
    "        \n",
    "        df = self.dataset.loc[:,[\"userId\",\"rating\",\"title\"]]\n",
    "        users_movie_matrix = pd.pivot_table(df,columns='title',index='userId',values='rating') \n",
    "        \n",
    "        \n",
    "        movie_watched = users_movie_matrix[self.get_movie_by_id(movieId)]\n",
    "        li = []\n",
    "        for i in range(len(users_movie_matrix.columns)):\n",
    "            li.append(movie_watched.corr(users_movie_matrix.iloc[:,i]))\n",
    "        li = pd.Series(li)\n",
    "        \n",
    "        \n",
    "        df = pd.DataFrame({\"title\": users_movie_matrix.columns,\"Correlation\": li,\"number of ratings\" : dataset_based_on_ratings[\"number of ratings\"].values})\n",
    "        recommendation_set = df[df[\"number of ratings\"] >= 50].sort_values(by=[\"Correlation\",\"number of ratings\"],ascending=False)\n",
    "        \n",
    "        recommended_movies = recommendation_set[\"title\"].values\n",
    "        print(\"Movies which have similar ratings like given movie --->\",self.get_movie_by_id(movieId),\"<--- are\",end=\"\\n\\n\")\n",
    "        \n",
    "        for i in range(1,16):\n",
    "            print(recommended_movies[i])\n",
    "        return recommended_movies\n",
    "            \n",
    "        \n",
    "    def recommend(self,user_id=None,movie_id=None):\n",
    "        if movie_id is None and user_id is None:\n",
    "            print(\"Error, No user id or movie id found\")\n",
    "        elif user_id is not None and movie_id is not None:\n",
    "            rmcb = self.content_based_filtering(user_id)\n",
    "            print(\"\\n\\n\\n\")\n",
    "            rmc = self.collaborative_filtering(user_id)\n",
    "            print(\"\\n\\n\\n\")\n",
    "            rm = self.based_on_ratings(movie_id)\n",
    "            return rmcb,rmc,rm\n",
    "        elif user_id is None and movie_id is not None:\n",
    "            rm = self.based_on_ratings(movie_id)\n",
    "            return rm\n",
    "        else:\n",
    "            rm = self.content_based_filtering(user_id)\n",
    "            \n",
    "            print(\"\\n\\n\\n\")\n",
    "            rmc = self.collaborative_filtering(user_id)\n",
    "            return rm,rmc\n",
    "            \n",
    "        "
   ]
  },
  {
   "cell_type": "markdown",
   "metadata": {},
   "source": [
    "Now that all the methods have been implemented in the class we can test them below by creating an object and calling the respective functions"
   ]
  },
  {
   "cell_type": "code",
   "execution_count": 9,
   "metadata": {},
   "outputs": [
    {
     "name": "stderr",
     "output_type": "stream",
     "text": [
      "D:\\anaconda3\\lib\\site-packages\\numpy\\lib\\function_base.py:2634: RuntimeWarning: Degrees of freedom <= 0 for slice\n",
      "  c = cov(x, y, rowvar, dtype=dtype)\n",
      "D:\\anaconda3\\lib\\site-packages\\numpy\\lib\\function_base.py:2493: RuntimeWarning: divide by zero encountered in true_divide\n",
      "  c *= np.true_divide(1, fact)\n"
     ]
    },
    {
     "name": "stdout",
     "output_type": "stream",
     "text": [
      "Movies which have similar ratings like given movie ---> Curdled (1996) <--- are\n",
      "\n",
      "Star Trek: First Contact (1996)\n",
      "Leaving Las Vegas (1995)\n",
      "Liar Liar (1997)\n",
      "Lost World: Jurassic Park, The (1997)\n",
      "Chasing Amy (1997)\n",
      "Wedding Singer, The (1998)\n",
      "Devil's Advocate, The (1997)\n",
      "Mars Attacks! (1996)\n",
      "Independence Day (a.k.a. ID4) (1996)\n",
      "Mission: Impossible (1996)\n",
      "Jerry Maguire (1996)\n",
      "Grosse Pointe Blank (1997)\n",
      "Twelve Monkeys (a.k.a. 12 Monkeys) (1995)\n",
      "Pulp Fiction (1994)\n",
      "Forrest Gump (1994)\n",
      "Since u have watched:  Usual Suspects, The (1995) <--- \n",
      " Recommended:\n",
      "\n",
      "Man from Reno (2014)\n",
      "Love Crime (Crime d'amour) (2010)\n",
      "Righteous Kill (2008)\n",
      "Mercy (2000)\n",
      "Switchback (1997)\n",
      "Thunderheart (1992)\n",
      "Frantic (1988)\n",
      "St. Ives (1976)\n",
      "Farewell, My Lovely (1975)\n",
      "Murder on the Orient Express (1974)\n",
      "Last of Sheila, The (1973)\n",
      "Sherlock Holmes: Terror by Night (1946)\n",
      "Sherlock Holmes and the Secret Weapon (1942)\n",
      "Hound of the Baskervilles, The (1939)\n",
      "Adventures of Sherlock Holmes, The (1939)\n",
      "\n",
      "\n",
      "\n",
      "\n",
      "U May Like These Movies \n",
      "\n",
      "\n",
      "Waterworld (1995)\n",
      "Die Hard: With a Vengeance (1995)\n",
      "Seven (a.k.a. Se7en) (1995)\n",
      "Babe (1995)\n",
      "GoldenEye (1995)\n",
      "True Lies (1994)\n",
      "Lion King, The (1994)\n",
      "Forrest Gump (1994)\n",
      "Shawshank Redemption, The (1994)\n",
      "Specialist, The (1994)\n",
      "Nell (1994)\n",
      "Interview with the Vampire: The Vampire Chronicles (1994)\n",
      "Jurassic Park (1993)\n",
      "Fugitive, The (1993)\n",
      "Cliffhanger (1993)\n",
      "\n",
      "\n",
      "\n",
      "\n"
     ]
    },
    {
     "name": "stderr",
     "output_type": "stream",
     "text": [
      "D:\\anaconda3\\lib\\site-packages\\numpy\\lib\\function_base.py:2634: RuntimeWarning: Degrees of freedom <= 0 for slice\n",
      "  c = cov(x, y, rowvar, dtype=dtype)\n",
      "D:\\anaconda3\\lib\\site-packages\\numpy\\lib\\function_base.py:2493: RuntimeWarning: divide by zero encountered in true_divide\n",
      "  c *= np.true_divide(1, fact)\n"
     ]
    },
    {
     "name": "stdout",
     "output_type": "stream",
     "text": [
      "Movies which have similar ratings like given movie ---> Curdled (1996) <--- are\n",
      "\n",
      "Star Trek: First Contact (1996)\n",
      "Leaving Las Vegas (1995)\n",
      "Liar Liar (1997)\n",
      "Lost World: Jurassic Park, The (1997)\n",
      "Chasing Amy (1997)\n",
      "Wedding Singer, The (1998)\n",
      "Devil's Advocate, The (1997)\n",
      "Mars Attacks! (1996)\n",
      "Independence Day (a.k.a. ID4) (1996)\n",
      "Mission: Impossible (1996)\n",
      "Jerry Maguire (1996)\n",
      "Grosse Pointe Blank (1997)\n",
      "Twelve Monkeys (a.k.a. 12 Monkeys) (1995)\n",
      "Pulp Fiction (1994)\n",
      "Forrest Gump (1994)\n",
      "Since u have watched:  Usual Suspects, The (1995) <--- \n",
      " Recommended:\n",
      "\n",
      "Man from Reno (2014)\n",
      "Love Crime (Crime d'amour) (2010)\n",
      "Righteous Kill (2008)\n",
      "Mercy (2000)\n",
      "Switchback (1997)\n",
      "Thunderheart (1992)\n",
      "Frantic (1988)\n",
      "St. Ives (1976)\n",
      "Farewell, My Lovely (1975)\n",
      "Murder on the Orient Express (1974)\n",
      "Last of Sheila, The (1973)\n",
      "Sherlock Holmes: Terror by Night (1946)\n",
      "Sherlock Holmes and the Secret Weapon (1942)\n",
      "Hound of the Baskervilles, The (1939)\n",
      "Adventures of Sherlock Holmes, The (1939)\n",
      "\n",
      "\n",
      "\n",
      "\n",
      "U May Like These Movies \n",
      "\n",
      "\n",
      "Waterworld (1995)\n",
      "Die Hard: With a Vengeance (1995)\n",
      "Seven (a.k.a. Se7en) (1995)\n",
      "Babe (1995)\n",
      "GoldenEye (1995)\n",
      "True Lies (1994)\n",
      "Lion King, The (1994)\n",
      "Forrest Gump (1994)\n",
      "Shawshank Redemption, The (1994)\n",
      "Specialist, The (1994)\n",
      "Nell (1994)\n",
      "Interview with the Vampire: The Vampire Chronicles (1994)\n",
      "Jurassic Park (1993)\n",
      "Fugitive, The (1993)\n",
      "Cliffhanger (1993)\n"
     ]
    },
    {
     "data": {
      "text/plain": [
       "(['Man from Reno (2014)',\n",
       "  \"Love Crime (Crime d'amour) (2010)\",\n",
       "  'Righteous Kill (2008)',\n",
       "  'Mercy (2000)',\n",
       "  'Switchback (1997)',\n",
       "  'Thunderheart (1992)',\n",
       "  'Frantic (1988)',\n",
       "  'St. Ives (1976)',\n",
       "  'Farewell, My Lovely (1975)',\n",
       "  'Murder on the Orient Express (1974)',\n",
       "  'Last of Sheila, The (1973)',\n",
       "  'Sherlock Holmes: Terror by Night (1946)',\n",
       "  'Sherlock Holmes and the Secret Weapon (1942)',\n",
       "  'Hound of the Baskervilles, The (1939)',\n",
       "  'Adventures of Sherlock Holmes, The (1939)'],\n",
       " ['Waterworld (1995)',\n",
       "  'Die Hard: With a Vengeance (1995)',\n",
       "  'Seven (a.k.a. Se7en) (1995)',\n",
       "  'Babe (1995)',\n",
       "  'GoldenEye (1995)',\n",
       "  'True Lies (1994)',\n",
       "  'Lion King, The (1994)',\n",
       "  'Forrest Gump (1994)',\n",
       "  'Shawshank Redemption, The (1994)',\n",
       "  'Specialist, The (1994)',\n",
       "  'Nell (1994)',\n",
       "  'Interview with the Vampire: The Vampire Chronicles (1994)',\n",
       "  'Jurassic Park (1993)',\n",
       "  'Fugitive, The (1993)',\n",
       "  'Cliffhanger (1993)'])"
      ]
     },
     "execution_count": 9,
     "metadata": {},
     "output_type": "execute_result"
    }
   ],
   "source": [
    "# Creating a object of the class\n",
    "rs = RecommendationSystem()\n",
    "\n",
    "rs.recommend(movie_id= 1000) # Based on Cosine Similarity\n",
    "rs.recommend(user_id = 145 ,movie_id = 1000)  # Ratings Correlation\n",
    "rs.recommend(user_id = 145) #  Based on SimilarUsers"
   ]
  },
  {
   "cell_type": "markdown",
   "metadata": {},
   "source": [
    "## Creating a sql server to save the dataset movies in a database "
   ]
  },
  {
   "cell_type": "code",
   "execution_count": 10,
   "metadata": {},
   "outputs": [],
   "source": [
    "from sqlalchemy import create_engine\n",
    "engine = create_engine('sqlite://', echo=False)"
   ]
  },
  {
   "cell_type": "code",
   "execution_count": 11,
   "metadata": {},
   "outputs": [
    {
     "name": "stdout",
     "output_type": "stream",
     "text": [
      "['Toy Story (1995)', 'Jumanji (1995)', 'Grumpier Old Men (1995)', 'Waiting to Exhale (1995)', 'Father of the Bride Part II (1995)']\n"
     ]
    },
    {
     "data": {
      "text/plain": [
       "[1, 2, 3, 4, 5]"
      ]
     },
     "execution_count": 11,
     "metadata": {},
     "output_type": "execute_result"
    }
   ],
   "source": [
    "# adding movies dataset to the database\n",
    "movies = pd.read_csv('movies.csv')\n",
    "movies.to_sql('movieId', \n",
    "              con=engine,\n",
    "              if_exists='replace',\n",
    "              index=False)\n",
    "\n",
    "abc = engine.execute(\"SELECT * FROM movieId\").fetchall()\n",
    "lis = []\n",
    "lis2 = []\n",
    "#Printing 1st 5 movies in database //Testing\n",
    "for x in abc[:5]:\n",
    "    name = x[\"title\"]\n",
    "    lis.append(name)\n",
    "    id = x[\"movieId\"]\n",
    "    lis2.append(id)\n",
    "print(lis)\n",
    "lis2\n",
    "#[str(x) for x in abc[:5]]"
   ]
  },
  {
   "cell_type": "markdown",
   "metadata": {},
   "source": [
    "## Deployement on flask\n",
    "\n",
    "Making a basic webpage to display the recomendation system"
   ]
  },
  {
   "cell_type": "code",
   "execution_count": 12,
   "metadata": {},
   "outputs": [
    {
     "name": "stdout",
     "output_type": "stream",
     "text": [
      " * Serving Flask app \"__main__\" (lazy loading)\n",
      " * Environment: production\n",
      "   WARNING: This is a development server. Do not use it in a production deployment.\n",
      "   Use a production WSGI server instead.\n",
      " * Debug mode: off\n"
     ]
    },
    {
     "name": "stderr",
     "output_type": "stream",
     "text": [
      " * Running on http://127.0.0.1:5000/ (Press CTRL+C to quit)\n",
      "127.0.0.1 - - [02/Jun/2021 01:43:25] \"\u001b[37mGET / HTTP/1.1\u001b[0m\" 200 -\n",
      "127.0.0.1 - - [02/Jun/2021 01:43:25] \"\u001b[33mGET /style.css HTTP/1.1\u001b[0m\" 404 -\n"
     ]
    }
   ],
   "source": [
    "app = Flask(__name__, template_folder='tmplate')\n",
    "result = []\n",
    "@app.route('/')\n",
    "def main():\n",
    "    movies = pd.read_csv('movies.csv') # Load again\n",
    "    movies.to_sql('movieId', con=engine ,if_exists='replace',\n",
    "           index=False)\n",
    "    result = engine.execute(\"SELECT * FROM movieId\").fetchall()\n",
    "    return render_template('index.html', movies=result)\n",
    "    \n",
    "@app.route(\"/movies\",methods=[\"POST\",\"GET\"])\n",
    "def movies():  \n",
    "    if request.method == 'POST':\n",
    "        category_id = request.form['category_id'] \n",
    "        return\n",
    "        \n",
    "@app.route(\"/predict\",methods=[\"POST\",\"GET\"])\n",
    "def predict():  \n",
    "    if request.method == 'POST':\n",
    "        category_id = request.form['submitted'] \n",
    "\n",
    "        # Declare your table\n",
    "        class ItemTable(Table):\n",
    "            name = Col('Predictions')\n",
    "\n",
    "        # Get some objects\n",
    "        class Item(object):\n",
    "            def __init__(self, name):\n",
    "                self.name = name\n",
    "\n",
    "        items = []\n",
    "        for x in rs.recommend(movie_id= int(category_id))[1:16]:\n",
    "            items.append(Item(str(x)))\n",
    "\n",
    "        # Populate the table\n",
    "        table = ItemTable(items)\n",
    "\n",
    "        # Print the html    \n",
    "        return render_template('predict.html', pred= table)\n",
    "\n",
    "\n",
    "if __name__ == '__main__':\n",
    "    app.run(debug=False)"
   ]
  },
  {
   "cell_type": "markdown",
   "metadata": {},
   "source": [
    "## Conclusion\n",
    "\n",
    "Video Recommendation system was implemented successfully by using movies dataset. Same technique can be applied to any video dataset which has genres or tags. We used three methods to recommend the videos and combined them together in a class. The model was then deployed on flask successfully. \n",
    "\n",
    "We learned a lot about recommendation methods and flask deployment whilde doing this project. \n"
   ]
  }
 ],
 "metadata": {
  "kernelspec": {
   "display_name": "Python 3",
   "language": "python",
   "name": "python3"
  },
  "language_info": {
   "codemirror_mode": {
    "name": "ipython",
    "version": 3
   },
   "file_extension": ".py",
   "mimetype": "text/x-python",
   "name": "python",
   "nbconvert_exporter": "python",
   "pygments_lexer": "ipython3",
   "version": "3.8.8"
  }
 },
 "nbformat": 4,
 "nbformat_minor": 2
}
